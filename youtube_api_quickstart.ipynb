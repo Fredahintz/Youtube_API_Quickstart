{
 "cells": [
  {
   "cell_type": "markdown",
   "metadata": {},
   "source": [
    "# Walking through the Youtube API for beginners\n",
    "\n",
    "This is a brief walkthrough of how to use the python-youtube package.\n",
    "\n",
    "The first thing you'll need to do is, through your google cloud console, enable the Youtube Data API. \n",
    "\n",
    "APIs and services -> \n",
    "\n",
    "Click the enable APIs button ![Button](img/enable_apis_button.png)\n",
    "\n",
    "Select the youtube data api 3 ![youtube api](img/enable_youtube_api_google_cloud.png)\n",
    "\n",
    "In the credentials tab, select CREATE CREDENTIALS ![credentials](img/youtube_api_credentials_view.png)\n",
    "\n",
    "Create both an API key and an Oauth Secret. Download \n",
    "\n",
    "Copy the client_id and client_secret ![oauth creds](img/oauth_creds.png)\n",
    "\n",
    "Add them to a .env file in your module's directory. \n",
    "\n",
    "```\n",
    "YOUTUBE_API_KEY = <api_key_here>\n",
    "YOUTUBE_OAUTH_CLIENT_ID = <oauth_client_id_here>\n",
    "YOUTUBE_OAUTH_CLIENT_SECRET = <oauth_client_secret_here>\n",
    "```\n",
    "\n",
    "Make sure you've installed the `python-youtube` package. This tutorial is using version 0.9.7.\n",
    "\n",
    "```\n",
    "pip install python-youtube@0.9.7\n",
    "```\n"
   ]
  },
  {
   "cell_type": "markdown",
   "metadata": {},
   "source": []
  },
  {
   "cell_type": "code",
   "execution_count": 1,
   "metadata": {},
   "outputs": [
    {
     "data": {
      "text/plain": [
       "True"
      ]
     },
     "execution_count": 1,
     "metadata": {},
     "output_type": "execute_result"
    }
   ],
   "source": [
    "#Make sure each of these are installed\n",
    "import os\n",
    "from pyyoutube import Client\n",
    "import dotenv # note the pypi package is named python-dotenv\n",
    "from rich import print\n",
    "\n",
    "#Load the environment\n",
    "dotenv.load_dotenv()"
   ]
  },
  {
   "cell_type": "markdown",
   "metadata": {},
   "source": [
    "You need to first initialize a connection between your machine and the youtube API using the Client Class. \n",
    "You can use methods that don't reference a specific user by just using an API Key. (E.g., search, finding a public playlist)\n",
    "You need to authenticate using Oauth2 to reference or make changes to objects pertaining to a specific user. "
   ]
  },
  {
   "cell_type": "code",
   "execution_count": null,
   "metadata": {},
   "outputs": [],
   "source": [
    "#Initialize with the API Key\n",
    "# client = Client(api_key=os.getenv(\"YOUTUBE_API_KEY\"))"
   ]
  },
  {
   "cell_type": "markdown",
   "metadata": {},
   "source": [
    "To connect with Oauth2, the following must happen:\n",
    " 1. Your app sends your application's oauth client id and oauth client secret to Youtube\n",
    " 2. Retrieve a Youtube/Google login link\n",
    " 3. The user must log in at that Youtube/Google Login link\n",
    " 4. The Youtube/Google login link must contain an access token that can be used to temporarily authorize any API calls made from this app. \n",
    " \n",
    " You can read more about OAuth2 [here](https://aaronparecki.com/oauth-2-simplified/). "
   ]
  },
  {
   "cell_type": "code",
   "execution_count": 2,
   "metadata": {},
   "outputs": [
    {
     "data": {
      "text/html": [
       "<pre style=\"white-space:pre;overflow-x:auto;line-height:normal;font-family:Menlo,'DejaVu Sans Mono',consolas,'Courier New',monospace\">Copy and paste this bad boy into your browser. \n",
       " NOTE: Ctrl+C might not work here so right click and copy the link instead. \n",
       " Make sure you click continue when it asks if you want to go back to safety, and check that it gives access to your\n",
       "youtube account:\n",
       "</pre>\n"
      ],
      "text/plain": [
       "Copy and paste this bad boy into your browser. \n",
       " NOTE: Ctrl+C might not work here so right click and copy the link instead. \n",
       " Make sure you click continue when it asks if you want to go back to safety, and check that it gives access to your\n",
       "youtube account:\n"
      ]
     },
     "metadata": {},
     "output_type": "display_data"
    },
    {
     "data": {
      "text/html": [
       "<pre style=\"white-space:pre;overflow-x:auto;line-height:normal;font-family:Menlo,'DejaVu Sans Mono',consolas,'Courier New',monospace\"><span style=\"color: #0000ff; text-decoration-color: #0000ff; text-decoration: underline\">https://accounts.google.com/o/oauth2/v2/auth?response_type=code&amp;client_id=952305535990-j4a0al3smorpv9p70047382e3oj8</span>\n",
       "<span style=\"color: #0000ff; text-decoration-color: #0000ff; text-decoration: underline\">iv6p.apps.googleusercontent.com&amp;redirect_uri=https%3A%2F%2Flocalhost%2F&amp;scope=https%3A%2F%2Fwww.googleapis.com%2Fau</span>\n",
       "<span style=\"color: #0000ff; text-decoration-color: #0000ff; text-decoration: underline\">th%2Fyoutube+https%3A%2F%2Fwww.googleapis.com%2Fauth%2Fuserinfo.profile&amp;state=Python-YouTube&amp;access_type=offline</span>\n",
       "</pre>\n"
      ],
      "text/plain": [
       "\u001b[4;94mhttps://accounts.google.com/o/oauth2/v2/auth?\u001b[0m\u001b[4;94mresponse_type\u001b[0m\u001b[4;94m=\u001b[0m\u001b[4;94mcode\u001b[0m\u001b[4;94m&\u001b[0m\u001b[4;94mclient_id\u001b[0m\u001b[4;94m=\u001b[0m\u001b[4;94m952305535990\u001b[0m\u001b[4;94m-j4a0al3smorpv9p70047382e3oj8\u001b[0m\n",
       "\u001b[4;94miv6p.apps.googleusercontent.com&\u001b[0m\u001b[4;94mredirect_uri\u001b[0m\u001b[4;94m=\u001b[0m\u001b[4;94mhttps\u001b[0m\u001b[4;94m%3A%2F%2Flocalhost%2F&\u001b[0m\u001b[4;94mscope\u001b[0m\u001b[4;94m=\u001b[0m\u001b[4;94mhttps\u001b[0m\u001b[4;94m%3A%2F%2Fwww.googleapis.com%2Fau\u001b[0m\n",
       "\u001b[4;94mth%2Fyoutube+https%3A%2F%2Fwww.googleapis.com%2Fauth%2Fuserinfo.profile&\u001b[0m\u001b[4;94mstate\u001b[0m\u001b[4;94m=\u001b[0m\u001b[4;94mPython\u001b[0m\u001b[4;94m-YouTube&\u001b[0m\u001b[4;94maccess_type\u001b[0m\u001b[4;94m=\u001b[0m\u001b[4;94moffline\u001b[0m\n"
      ]
     },
     "metadata": {},
     "output_type": "display_data"
    }
   ],
   "source": [
    "# This line initializes the client with the OAUTH credentials\n",
    "cli = Client(client_id=os.environ.get(\"YOUTUBE_OAUTH_CLIENT_ID\"),\n",
    "             client_secret=os.environ.get(\"YOUTUBE_OAUTH_CLIENT_SECRET\"))\n",
    "\n",
    "# This line generates a URL that you can paste into your browser\n",
    "url = cli.get_authorize_url()\n",
    "#Make sure you copy this URL. Don't just click on it, the hyperlinks don't work.\n",
    "print(\n",
    "    'Copy and paste this bad boy into your browser. \\n NOTE: Ctrl+C might not work here so right click and copy the link instead. \\n Make sure you click continue when it asks if you want to go back to safety, and check that it gives access to your youtube account:'\n",
    ")\n",
    "print(url[0])\n"
   ]
  },
  {
   "cell_type": "markdown",
   "metadata": {},
   "source": [
    "This link should take you to a series of screens that warn you that your app is under development and has not been vetted by google. You also need to check a box saying that you give this app access to your youtube account. The final screen you should see is a redirect to the url `localhost`. This url also contains your access token, so you'll need to copy it from your toolbar and paste it somewhere where it can be used. In an interactive app you'll need to procedurally obtain the token, but this is just for demonstration.\n",
    "\n",
    "![oauth_landing_page](img/oauth_landing_page.png)\n",
    "\n",
    "![google_not_verified](img/google_not_verified.png)\n",
    "\n",
    "![sign_in](img/sign_in.png)\n",
    "\n",
    "![give_youtube_access](img/give_youtube_access.png)\n",
    "\n",
    "![oauth_key_url](img/oauth_key_url.png)"
   ]
  },
  {
   "cell_type": "code",
   "execution_count": null,
   "metadata": {},
   "outputs": [],
   "source": [
    "#Add that url here \n",
    "\n",
    "# authentication_url = <paste_url_here>\n",
    "\n",
    "authentication_url=\"\"\n",
    "\n",
    "token = cli.generate_access_token(authorization_response=authentication_url)"
   ]
  },
  {
   "cell_type": "markdown",
   "metadata": {},
   "source": [
    "Now we can call information about my user.\n",
    "\n",
    "For example the code below lists all of my user's saved playlists:\n",
    "\n",
    "\n",
    "```\n",
    "playlists = cli.playlists.list(mine=True,max_results=50)\n",
    "print('These are your playlists:')\n",
    "for playlist in playlists.items:\n",
    "  print(playlist.snippet.title)\n",
    "```\n",
    "Result: \n",
    "\n",
    "```\n",
    "These are your playlists:\n",
    "Music theory documentaries\n",
    "Coding\n",
    "Bass songs\n",
    "Work videos\n",
    "Foreign films\n",
    "```\n",
    "\n"
   ]
  },
  {
   "cell_type": "code",
   "execution_count": 4,
   "metadata": {},
   "outputs": [
    {
     "data": {
      "text/html": [
       "<pre style=\"white-space:pre;overflow-x:auto;line-height:normal;font-family:Menlo,'DejaVu Sans Mono',consolas,'Courier New',monospace\">These are your playlists:\n",
       "</pre>\n"
      ],
      "text/plain": [
       "These are your playlists:\n"
      ]
     },
     "metadata": {},
     "output_type": "display_data"
    },
    {
     "data": {
      "text/html": [
       "<pre style=\"white-space:pre;overflow-x:auto;line-height:normal;font-family:Menlo,'DejaVu Sans Mono',consolas,'Courier New',monospace\">Music theory documentaries\n",
       "</pre>\n"
      ],
      "text/plain": [
       "Music theory documentaries\n"
      ]
     },
     "metadata": {},
     "output_type": "display_data"
    },
    {
     "data": {
      "text/html": [
       "<pre style=\"white-space:pre;overflow-x:auto;line-height:normal;font-family:Menlo,'DejaVu Sans Mono',consolas,'Courier New',monospace\">Coding\n",
       "</pre>\n"
      ],
      "text/plain": [
       "Coding\n"
      ]
     },
     "metadata": {},
     "output_type": "display_data"
    },
    {
     "data": {
      "text/html": [
       "<pre style=\"white-space:pre;overflow-x:auto;line-height:normal;font-family:Menlo,'DejaVu Sans Mono',consolas,'Courier New',monospace\">Bass songs\n",
       "</pre>\n"
      ],
      "text/plain": [
       "Bass songs\n"
      ]
     },
     "metadata": {},
     "output_type": "display_data"
    },
    {
     "data": {
      "text/html": [
       "<pre style=\"white-space:pre;overflow-x:auto;line-height:normal;font-family:Menlo,'DejaVu Sans Mono',consolas,'Courier New',monospace\">Volleyball\n",
       "</pre>\n"
      ],
      "text/plain": [
       "Volleyball\n"
      ]
     },
     "metadata": {},
     "output_type": "display_data"
    },
    {
     "data": {
      "text/html": [
       "<pre style=\"white-space:pre;overflow-x:auto;line-height:normal;font-family:Menlo,'DejaVu Sans Mono',consolas,'Courier New',monospace\">Operas\n",
       "</pre>\n"
      ],
      "text/plain": [
       "Operas\n"
      ]
     },
     "metadata": {},
     "output_type": "display_data"
    },
    {
     "data": {
      "text/html": [
       "<pre style=\"white-space:pre;overflow-x:auto;line-height:normal;font-family:Menlo,'DejaVu Sans Mono',consolas,'Courier New',monospace\">Dancing videos\n",
       "</pre>\n"
      ],
      "text/plain": [
       "Dancing videos\n"
      ]
     },
     "metadata": {},
     "output_type": "display_data"
    },
    {
     "data": {
      "text/html": [
       "<pre style=\"white-space:pre;overflow-x:auto;line-height:normal;font-family:Menlo,'DejaVu Sans Mono',consolas,'Courier New',monospace\">Work  videos\n",
       "</pre>\n"
      ],
      "text/plain": [
       "Work  videos\n"
      ]
     },
     "metadata": {},
     "output_type": "display_data"
    },
    {
     "data": {
      "text/html": [
       "<pre style=\"white-space:pre;overflow-x:auto;line-height:normal;font-family:Menlo,'DejaVu Sans Mono',consolas,'Courier New',monospace\">Foreign films\n",
       "</pre>\n"
      ],
      "text/plain": [
       "Foreign films\n"
      ]
     },
     "metadata": {},
     "output_type": "display_data"
    },
    {
     "data": {
      "text/html": [
       "<pre style=\"white-space:pre;overflow-x:auto;line-height:normal;font-family:Menlo,'DejaVu Sans Mono',consolas,'Courier New',monospace\">data science\n",
       "</pre>\n"
      ],
      "text/plain": [
       "data science\n"
      ]
     },
     "metadata": {},
     "output_type": "display_data"
    },
    {
     "data": {
      "text/html": [
       "<pre style=\"white-space:pre;overflow-x:auto;line-height:normal;font-family:Menlo,'DejaVu Sans Mono',consolas,'Courier New',monospace\">Workout videos\n",
       "</pre>\n"
      ],
      "text/plain": [
       "Workout videos\n"
      ]
     },
     "metadata": {},
     "output_type": "display_data"
    },
    {
     "data": {
      "text/html": [
       "<pre style=\"white-space:pre;overflow-x:auto;line-height:normal;font-family:Menlo,'DejaVu Sans Mono',consolas,'Courier New',monospace\">Funny\n",
       "</pre>\n"
      ],
      "text/plain": [
       "Funny\n"
      ]
     },
     "metadata": {},
     "output_type": "display_data"
    },
    {
     "data": {
      "text/html": [
       "<pre style=\"white-space:pre;overflow-x:auto;line-height:normal;font-family:Menlo,'DejaVu Sans Mono',consolas,'Courier New',monospace\">Music\n",
       "</pre>\n"
      ],
      "text/plain": [
       "Music\n"
      ]
     },
     "metadata": {},
     "output_type": "display_data"
    }
   ],
   "source": [
    "playlists = cli.playlists.list(mine=True,max_results=50)\n",
    "print('These are your playlists:')\n",
    "for playlist in playlists.items:\n",
    "  print(playlist.snippet.title)"
   ]
  },
  {
   "cell_type": "markdown",
   "metadata": {},
   "source": [
    "Let's look at all the videos in the playlist\n",
    "You need to use the playlist ID to get the items in a playlist\n",
    "Here's a sample playlist of panel discussions on the muppet show:\n",
    "https://youtube.com/playlist?list=PLqf3vdDTch5dquK_4B7ZGk-ZRxsa3ZkM6&feature=shared\n",
    "You can see that playlist ID is in the Playlist parameter of the URL.\n",
    "\n",
    "A playlist object contains the attributes id, kind, player, snippet, and status.\n",
    "\n",
    "There's also a ContentDetails method that tells you how many videos are in the playlist."
   ]
  },
  {
   "cell_type": "code",
   "execution_count": 6,
   "metadata": {},
   "outputs": [
    {
     "data": {
      "text/html": [
       "<pre style=\"white-space:pre;overflow-x:auto;line-height:normal;font-family:Menlo,'DejaVu Sans Mono',consolas,'Courier New',monospace\"><span style=\"font-weight: bold\">[</span>\n",
       "    <span style=\"color: #008000; text-decoration-color: #008000\">'__abstractmethods__'</span>,\n",
       "    <span style=\"color: #008000; text-decoration-color: #008000\">'__annotations__'</span>,\n",
       "    <span style=\"color: #008000; text-decoration-color: #008000\">'__class__'</span>,\n",
       "    <span style=\"color: #008000; text-decoration-color: #008000\">'__dataclass_fields__'</span>,\n",
       "    <span style=\"color: #008000; text-decoration-color: #008000\">'__dataclass_params__'</span>,\n",
       "    <span style=\"color: #008000; text-decoration-color: #008000\">'__delattr__'</span>,\n",
       "    <span style=\"color: #008000; text-decoration-color: #008000\">'__dict__'</span>,\n",
       "    <span style=\"color: #008000; text-decoration-color: #008000\">'__dir__'</span>,\n",
       "    <span style=\"color: #008000; text-decoration-color: #008000\">'__doc__'</span>,\n",
       "    <span style=\"color: #008000; text-decoration-color: #008000\">'__eq__'</span>,\n",
       "    <span style=\"color: #008000; text-decoration-color: #008000\">'__firstlineno__'</span>,\n",
       "    <span style=\"color: #008000; text-decoration-color: #008000\">'__format__'</span>,\n",
       "    <span style=\"color: #008000; text-decoration-color: #008000\">'__ge__'</span>,\n",
       "    <span style=\"color: #008000; text-decoration-color: #008000\">'__getattribute__'</span>,\n",
       "    <span style=\"color: #008000; text-decoration-color: #008000\">'__getstate__'</span>,\n",
       "    <span style=\"color: #008000; text-decoration-color: #008000\">'__gt__'</span>,\n",
       "    <span style=\"color: #008000; text-decoration-color: #008000\">'__hash__'</span>,\n",
       "    <span style=\"color: #008000; text-decoration-color: #008000\">'__init__'</span>,\n",
       "    <span style=\"color: #008000; text-decoration-color: #008000\">'__init_subclass__'</span>,\n",
       "    <span style=\"color: #008000; text-decoration-color: #008000\">'__le__'</span>,\n",
       "    <span style=\"color: #008000; text-decoration-color: #008000\">'__lt__'</span>,\n",
       "    <span style=\"color: #008000; text-decoration-color: #008000\">'__match_args__'</span>,\n",
       "    <span style=\"color: #008000; text-decoration-color: #008000\">'__module__'</span>,\n",
       "    <span style=\"color: #008000; text-decoration-color: #008000\">'__ne__'</span>,\n",
       "    <span style=\"color: #008000; text-decoration-color: #008000\">'__new__'</span>,\n",
       "    <span style=\"color: #008000; text-decoration-color: #008000\">'__reduce__'</span>,\n",
       "    <span style=\"color: #008000; text-decoration-color: #008000\">'__reduce_ex__'</span>,\n",
       "    <span style=\"color: #008000; text-decoration-color: #008000\">'__replace__'</span>,\n",
       "    <span style=\"color: #008000; text-decoration-color: #008000\">'__repr__'</span>,\n",
       "    <span style=\"color: #008000; text-decoration-color: #008000\">'__setattr__'</span>,\n",
       "    <span style=\"color: #008000; text-decoration-color: #008000\">'__sizeof__'</span>,\n",
       "    <span style=\"color: #008000; text-decoration-color: #008000\">'__slots__'</span>,\n",
       "    <span style=\"color: #008000; text-decoration-color: #008000\">'__static_attributes__'</span>,\n",
       "    <span style=\"color: #008000; text-decoration-color: #008000\">'__str__'</span>,\n",
       "    <span style=\"color: #008000; text-decoration-color: #008000\">'__subclasshook__'</span>,\n",
       "    <span style=\"color: #008000; text-decoration-color: #008000\">'__weakref__'</span>,\n",
       "    <span style=\"color: #008000; text-decoration-color: #008000\">'_abc_impl'</span>,\n",
       "    <span style=\"color: #008000; text-decoration-color: #008000\">'contentDetails'</span>,\n",
       "    <span style=\"color: #008000; text-decoration-color: #008000\">'dataclass_json_config'</span>,\n",
       "    <span style=\"color: #008000; text-decoration-color: #008000\">'etag'</span>,\n",
       "    <span style=\"color: #008000; text-decoration-color: #008000\">'from_dict'</span>,\n",
       "    <span style=\"color: #008000; text-decoration-color: #008000\">'from_json'</span>,\n",
       "    <span style=\"color: #008000; text-decoration-color: #008000\">'id'</span>,\n",
       "    <span style=\"color: #008000; text-decoration-color: #008000\">'kind'</span>,\n",
       "    <span style=\"color: #008000; text-decoration-color: #008000\">'player'</span>,\n",
       "    <span style=\"color: #008000; text-decoration-color: #008000\">'schema'</span>,\n",
       "    <span style=\"color: #008000; text-decoration-color: #008000\">'snippet'</span>,\n",
       "    <span style=\"color: #008000; text-decoration-color: #008000\">'status'</span>,\n",
       "    <span style=\"color: #008000; text-decoration-color: #008000\">'to_dict'</span>,\n",
       "    <span style=\"color: #008000; text-decoration-color: #008000\">'to_dict_ignore_none'</span>,\n",
       "    <span style=\"color: #008000; text-decoration-color: #008000\">'to_json'</span>\n",
       "<span style=\"font-weight: bold\">]</span>\n",
       "</pre>\n"
      ],
      "text/plain": [
       "\u001b[1m[\u001b[0m\n",
       "    \u001b[32m'__abstractmethods__'\u001b[0m,\n",
       "    \u001b[32m'__annotations__'\u001b[0m,\n",
       "    \u001b[32m'__class__'\u001b[0m,\n",
       "    \u001b[32m'__dataclass_fields__'\u001b[0m,\n",
       "    \u001b[32m'__dataclass_params__'\u001b[0m,\n",
       "    \u001b[32m'__delattr__'\u001b[0m,\n",
       "    \u001b[32m'__dict__'\u001b[0m,\n",
       "    \u001b[32m'__dir__'\u001b[0m,\n",
       "    \u001b[32m'__doc__'\u001b[0m,\n",
       "    \u001b[32m'__eq__'\u001b[0m,\n",
       "    \u001b[32m'__firstlineno__'\u001b[0m,\n",
       "    \u001b[32m'__format__'\u001b[0m,\n",
       "    \u001b[32m'__ge__'\u001b[0m,\n",
       "    \u001b[32m'__getattribute__'\u001b[0m,\n",
       "    \u001b[32m'__getstate__'\u001b[0m,\n",
       "    \u001b[32m'__gt__'\u001b[0m,\n",
       "    \u001b[32m'__hash__'\u001b[0m,\n",
       "    \u001b[32m'__init__'\u001b[0m,\n",
       "    \u001b[32m'__init_subclass__'\u001b[0m,\n",
       "    \u001b[32m'__le__'\u001b[0m,\n",
       "    \u001b[32m'__lt__'\u001b[0m,\n",
       "    \u001b[32m'__match_args__'\u001b[0m,\n",
       "    \u001b[32m'__module__'\u001b[0m,\n",
       "    \u001b[32m'__ne__'\u001b[0m,\n",
       "    \u001b[32m'__new__'\u001b[0m,\n",
       "    \u001b[32m'__reduce__'\u001b[0m,\n",
       "    \u001b[32m'__reduce_ex__'\u001b[0m,\n",
       "    \u001b[32m'__replace__'\u001b[0m,\n",
       "    \u001b[32m'__repr__'\u001b[0m,\n",
       "    \u001b[32m'__setattr__'\u001b[0m,\n",
       "    \u001b[32m'__sizeof__'\u001b[0m,\n",
       "    \u001b[32m'__slots__'\u001b[0m,\n",
       "    \u001b[32m'__static_attributes__'\u001b[0m,\n",
       "    \u001b[32m'__str__'\u001b[0m,\n",
       "    \u001b[32m'__subclasshook__'\u001b[0m,\n",
       "    \u001b[32m'__weakref__'\u001b[0m,\n",
       "    \u001b[32m'_abc_impl'\u001b[0m,\n",
       "    \u001b[32m'contentDetails'\u001b[0m,\n",
       "    \u001b[32m'dataclass_json_config'\u001b[0m,\n",
       "    \u001b[32m'etag'\u001b[0m,\n",
       "    \u001b[32m'from_dict'\u001b[0m,\n",
       "    \u001b[32m'from_json'\u001b[0m,\n",
       "    \u001b[32m'id'\u001b[0m,\n",
       "    \u001b[32m'kind'\u001b[0m,\n",
       "    \u001b[32m'player'\u001b[0m,\n",
       "    \u001b[32m'schema'\u001b[0m,\n",
       "    \u001b[32m'snippet'\u001b[0m,\n",
       "    \u001b[32m'status'\u001b[0m,\n",
       "    \u001b[32m'to_dict'\u001b[0m,\n",
       "    \u001b[32m'to_dict_ignore_none'\u001b[0m,\n",
       "    \u001b[32m'to_json'\u001b[0m\n",
       "\u001b[1m]\u001b[0m\n"
      ]
     },
     "metadata": {},
     "output_type": "display_data"
    }
   ],
   "source": [
    "playlist_info = cli.playlists.list(\n",
    "    playlist_id=\"PLqf3vdDTch5dquK_4B7ZGk-ZRxsa3ZkM6\")\n",
    "print(dir(playlist_info.items[0]))"
   ]
  },
  {
   "cell_type": "code",
   "execution_count": 7,
   "metadata": {},
   "outputs": [
    {
     "data": {
      "text/html": [
       "<pre style=\"white-space:pre;overflow-x:auto;line-height:normal;font-family:Menlo,'DejaVu Sans Mono',consolas,'Courier New',monospace\"><span style=\"color: #008080; text-decoration-color: #008080; font-weight: bold\">7</span>\n",
       "</pre>\n"
      ],
      "text/plain": [
       "\u001b[1;36m7\u001b[0m\n"
      ]
     },
     "metadata": {},
     "output_type": "display_data"
    }
   ],
   "source": [
    "print(playlist_info.items[0].contentDetails.itemCount)"
   ]
  },
  {
   "cell_type": "code",
   "execution_count": 8,
   "metadata": {},
   "outputs": [
    {
     "data": {
      "text/plain": [
       "'PLqf3vdDTch5dquK_4B7ZGk-ZRxsa3ZkM6'"
      ]
     },
     "execution_count": 8,
     "metadata": {},
     "output_type": "execute_result"
    }
   ],
   "source": [
    "playlist_info.items[0].id"
   ]
  },
  {
   "cell_type": "code",
   "execution_count": null,
   "metadata": {},
   "outputs": [
    {
     "data": {
      "text/plain": [
       "'<iframe width=\"640\" height=\"360\" src=\"http://www.youtube.com/embed/videoseries?list=PLqf3vdDTch5dquK_4B7ZGk-ZRxsa3ZkM6\" frameborder=\"0\" allow=\"accelerometer; autoplay; clipboard-write; encrypted-media; gyroscope; picture-in-picture; web-share\" referrerpolicy=\"strict-origin-when-cross-origin\" allowfullscreen></iframe>'"
      ]
     },
     "execution_count": 22,
     "metadata": {},
     "output_type": "execute_result"
    }
   ],
   "source": [
    "#Player provides you with HTML code to embed the playlist in a web page.\n",
    "playlist_info.items[0].player.embedHtml"
   ]
  },
  {
   "cell_type": "code",
   "execution_count": null,
   "metadata": {},
   "outputs": [
    {
     "data": {
      "text/plain": [
       "'Panel Discussions'"
      ]
     },
     "execution_count": 26,
     "metadata": {},
     "output_type": "execute_result"
    }
   ],
   "source": [
    "#Snippet contains informational details about the playlist. The title, the channel info, the thumbnails, etc.\n",
    "playlist_info.items[0].snippet.title"
   ]
  },
  {
   "cell_type": "markdown",
   "metadata": {},
   "source": [
    "The videos in a playlist are accessed through a separate method called PlaylistItems.\n",
    "PlaylistItems returns a list of all videos in the playlist with descriptive information in the snippet attribute including the Video ID and the channel ID of the video's creator. "
   ]
  },
  {
   "cell_type": "code",
   "execution_count": 9,
   "metadata": {},
   "outputs": [
    {
     "data": {
      "text/html": [
       "<pre style=\"white-space:pre;overflow-x:auto;line-height:normal;font-family:Menlo,'DejaVu Sans Mono',consolas,'Courier New',monospace\"><span style=\"font-weight: bold\">{</span>\n",
       "    <span style=\"color: #008000; text-decoration-color: #008000\">'publishedAt'</span>: <span style=\"color: #008000; text-decoration-color: #008000\">'2018-06-06T15:02:06Z'</span>,\n",
       "    <span style=\"color: #008000; text-decoration-color: #008000\">'channelId'</span>: <span style=\"color: #008000; text-decoration-color: #008000\">'UCigfjcq3i5gBv-CPDRPy4_w'</span>,\n",
       "    <span style=\"color: #008000; text-decoration-color: #008000\">'title'</span>: <span style=\"color: #008000; text-decoration-color: #008000\">'The Muppet Show   Is the Human Body Obsolete'</span>,\n",
       "    <span style=\"color: #008000; text-decoration-color: #008000\">'description'</span>: <span style=\"color: #008000; text-decoration-color: #008000\">''</span>,\n",
       "    <span style=\"color: #008000; text-decoration-color: #008000\">'thumbnails'</span>: <span style=\"font-weight: bold\">{</span>\n",
       "        <span style=\"color: #008000; text-decoration-color: #008000\">'default'</span>: <span style=\"font-weight: bold\">{</span><span style=\"color: #008000; text-decoration-color: #008000\">'url'</span>: <span style=\"color: #008000; text-decoration-color: #008000\">'https://i.ytimg.com/vi/qZyvpjpYlAY/default.jpg'</span>, <span style=\"color: #008000; text-decoration-color: #008000\">'width'</span>: <span style=\"color: #008080; text-decoration-color: #008080; font-weight: bold\">120</span>, <span style=\"color: #008000; text-decoration-color: #008000\">'height'</span>: <span style=\"color: #008080; text-decoration-color: #008080; font-weight: bold\">90</span><span style=\"font-weight: bold\">}</span>,\n",
       "        <span style=\"color: #008000; text-decoration-color: #008000\">'medium'</span>: <span style=\"font-weight: bold\">{</span><span style=\"color: #008000; text-decoration-color: #008000\">'url'</span>: <span style=\"color: #008000; text-decoration-color: #008000\">'https://i.ytimg.com/vi/qZyvpjpYlAY/mqdefault.jpg'</span>, <span style=\"color: #008000; text-decoration-color: #008000\">'width'</span>: <span style=\"color: #008080; text-decoration-color: #008080; font-weight: bold\">320</span>, <span style=\"color: #008000; text-decoration-color: #008000\">'height'</span>: <span style=\"color: #008080; text-decoration-color: #008080; font-weight: bold\">180</span><span style=\"font-weight: bold\">}</span>,\n",
       "        <span style=\"color: #008000; text-decoration-color: #008000\">'high'</span>: <span style=\"font-weight: bold\">{</span><span style=\"color: #008000; text-decoration-color: #008000\">'url'</span>: <span style=\"color: #008000; text-decoration-color: #008000\">'https://i.ytimg.com/vi/qZyvpjpYlAY/hqdefault.jpg'</span>, <span style=\"color: #008000; text-decoration-color: #008000\">'width'</span>: <span style=\"color: #008080; text-decoration-color: #008080; font-weight: bold\">480</span>, <span style=\"color: #008000; text-decoration-color: #008000\">'height'</span>: <span style=\"color: #008080; text-decoration-color: #008080; font-weight: bold\">360</span><span style=\"font-weight: bold\">}</span>,\n",
       "        <span style=\"color: #008000; text-decoration-color: #008000\">'standard'</span>: <span style=\"font-weight: bold\">{</span><span style=\"color: #008000; text-decoration-color: #008000\">'url'</span>: <span style=\"color: #008000; text-decoration-color: #008000\">'https://i.ytimg.com/vi/qZyvpjpYlAY/sddefault.jpg'</span>, <span style=\"color: #008000; text-decoration-color: #008000\">'width'</span>: <span style=\"color: #008080; text-decoration-color: #008080; font-weight: bold\">640</span>, <span style=\"color: #008000; text-decoration-color: #008000\">'height'</span>: <span style=\"color: #008080; text-decoration-color: #008080; font-weight: bold\">480</span><span style=\"font-weight: bold\">}</span>,\n",
       "        <span style=\"color: #008000; text-decoration-color: #008000\">'maxres'</span>: <span style=\"color: #800080; text-decoration-color: #800080; font-style: italic\">None</span>\n",
       "    <span style=\"font-weight: bold\">}</span>,\n",
       "    <span style=\"color: #008000; text-decoration-color: #008000\">'channelTitle'</span>: <span style=\"color: #008000; text-decoration-color: #008000\">'MuppetRocker'</span>,\n",
       "    <span style=\"color: #008000; text-decoration-color: #008000\">'videoOwnerChannelTitle'</span>: <span style=\"color: #008000; text-decoration-color: #008000\">'muppetsandpvzfan 102801'</span>,\n",
       "    <span style=\"color: #008000; text-decoration-color: #008000\">'videoOwnerChannelId'</span>: <span style=\"color: #008000; text-decoration-color: #008000\">'UCPMUlw7crtnoXuf78Y5gItA'</span>,\n",
       "    <span style=\"color: #008000; text-decoration-color: #008000\">'playlistId'</span>: <span style=\"color: #008000; text-decoration-color: #008000\">'PLqf3vdDTch5dquK_4B7ZGk-ZRxsa3ZkM6'</span>,\n",
       "    <span style=\"color: #008000; text-decoration-color: #008000\">'position'</span>: <span style=\"color: #008080; text-decoration-color: #008080; font-weight: bold\">0</span>,\n",
       "    <span style=\"color: #008000; text-decoration-color: #008000\">'resourceId'</span>: <span style=\"font-weight: bold\">{</span><span style=\"color: #008000; text-decoration-color: #008000\">'kind'</span>: <span style=\"color: #008000; text-decoration-color: #008000\">'youtube#video'</span>, <span style=\"color: #008000; text-decoration-color: #008000\">'videoId'</span>: <span style=\"color: #008000; text-decoration-color: #008000\">'qZyvpjpYlAY'</span>, <span style=\"color: #008000; text-decoration-color: #008000\">'channelId'</span>: <span style=\"color: #800080; text-decoration-color: #800080; font-style: italic\">None</span>, <span style=\"color: #008000; text-decoration-color: #008000\">'playlistId'</span>: <span style=\"color: #800080; text-decoration-color: #800080; font-style: italic\">None</span><span style=\"font-weight: bold\">}</span>\n",
       "<span style=\"font-weight: bold\">}</span>\n",
       "</pre>\n"
      ],
      "text/plain": [
       "\u001b[1m{\u001b[0m\n",
       "    \u001b[32m'publishedAt'\u001b[0m: \u001b[32m'2018-06-06T15:02:06Z'\u001b[0m,\n",
       "    \u001b[32m'channelId'\u001b[0m: \u001b[32m'UCigfjcq3i5gBv-CPDRPy4_w'\u001b[0m,\n",
       "    \u001b[32m'title'\u001b[0m: \u001b[32m'The Muppet Show   Is the Human Body Obsolete'\u001b[0m,\n",
       "    \u001b[32m'description'\u001b[0m: \u001b[32m''\u001b[0m,\n",
       "    \u001b[32m'thumbnails'\u001b[0m: \u001b[1m{\u001b[0m\n",
       "        \u001b[32m'default'\u001b[0m: \u001b[1m{\u001b[0m\u001b[32m'url'\u001b[0m: \u001b[32m'https://i.ytimg.com/vi/qZyvpjpYlAY/default.jpg'\u001b[0m, \u001b[32m'width'\u001b[0m: \u001b[1;36m120\u001b[0m, \u001b[32m'height'\u001b[0m: \u001b[1;36m90\u001b[0m\u001b[1m}\u001b[0m,\n",
       "        \u001b[32m'medium'\u001b[0m: \u001b[1m{\u001b[0m\u001b[32m'url'\u001b[0m: \u001b[32m'https://i.ytimg.com/vi/qZyvpjpYlAY/mqdefault.jpg'\u001b[0m, \u001b[32m'width'\u001b[0m: \u001b[1;36m320\u001b[0m, \u001b[32m'height'\u001b[0m: \u001b[1;36m180\u001b[0m\u001b[1m}\u001b[0m,\n",
       "        \u001b[32m'high'\u001b[0m: \u001b[1m{\u001b[0m\u001b[32m'url'\u001b[0m: \u001b[32m'https://i.ytimg.com/vi/qZyvpjpYlAY/hqdefault.jpg'\u001b[0m, \u001b[32m'width'\u001b[0m: \u001b[1;36m480\u001b[0m, \u001b[32m'height'\u001b[0m: \u001b[1;36m360\u001b[0m\u001b[1m}\u001b[0m,\n",
       "        \u001b[32m'standard'\u001b[0m: \u001b[1m{\u001b[0m\u001b[32m'url'\u001b[0m: \u001b[32m'https://i.ytimg.com/vi/qZyvpjpYlAY/sddefault.jpg'\u001b[0m, \u001b[32m'width'\u001b[0m: \u001b[1;36m640\u001b[0m, \u001b[32m'height'\u001b[0m: \u001b[1;36m480\u001b[0m\u001b[1m}\u001b[0m,\n",
       "        \u001b[32m'maxres'\u001b[0m: \u001b[3;35mNone\u001b[0m\n",
       "    \u001b[1m}\u001b[0m,\n",
       "    \u001b[32m'channelTitle'\u001b[0m: \u001b[32m'MuppetRocker'\u001b[0m,\n",
       "    \u001b[32m'videoOwnerChannelTitle'\u001b[0m: \u001b[32m'muppetsandpvzfan 102801'\u001b[0m,\n",
       "    \u001b[32m'videoOwnerChannelId'\u001b[0m: \u001b[32m'UCPMUlw7crtnoXuf78Y5gItA'\u001b[0m,\n",
       "    \u001b[32m'playlistId'\u001b[0m: \u001b[32m'PLqf3vdDTch5dquK_4B7ZGk-ZRxsa3ZkM6'\u001b[0m,\n",
       "    \u001b[32m'position'\u001b[0m: \u001b[1;36m0\u001b[0m,\n",
       "    \u001b[32m'resourceId'\u001b[0m: \u001b[1m{\u001b[0m\u001b[32m'kind'\u001b[0m: \u001b[32m'youtube#video'\u001b[0m, \u001b[32m'videoId'\u001b[0m: \u001b[32m'qZyvpjpYlAY'\u001b[0m, \u001b[32m'channelId'\u001b[0m: \u001b[3;35mNone\u001b[0m, \u001b[32m'playlistId'\u001b[0m: \u001b[3;35mNone\u001b[0m\u001b[1m}\u001b[0m\n",
       "\u001b[1m}\u001b[0m\n"
      ]
     },
     "metadata": {},
     "output_type": "display_data"
    }
   ],
   "source": [
    "playlist_items = cli.playlistItems.list(playlist_id='PLqf3vdDTch5dquK_4B7ZGk-ZRxsa3ZkM6')\n",
    "print(playlist_items.items[0].snippet.to_dict())"
   ]
  },
  {
   "cell_type": "markdown",
   "metadata": {},
   "source": [
    "To get information about a specific video you can use the video method. "
   ]
  },
  {
   "cell_type": "code",
   "execution_count": 10,
   "metadata": {},
   "outputs": [
    {
     "data": {
      "text/plain": [
       "{'kind': 'youtube#videoListResponse',\n",
       " 'etag': 'DlZ1WAg4nuNcK5t3vYJ6-D-B-9g',\n",
       " 'nextPageToken': None,\n",
       " 'prevPageToken': None,\n",
       " 'pageInfo': {'totalResults': 1, 'resultsPerPage': 1},\n",
       " 'items': [{'kind': 'youtube#video',\n",
       "   'etag': 'Y8gU96xB6yW5EkxmA5334Fwhk5U',\n",
       "   'id': 'qZyvpjpYlAY',\n",
       "   'snippet': {'publishedAt': '2017-09-04T19:07:28Z',\n",
       "    'channelId': 'UCPMUlw7crtnoXuf78Y5gItA',\n",
       "    'title': 'The Muppet Show   Is the Human Body Obsolete',\n",
       "    'description': '',\n",
       "    'thumbnails': {'default': {'url': 'https://i.ytimg.com/vi/qZyvpjpYlAY/default.jpg',\n",
       "      'width': 120,\n",
       "      'height': 90},\n",
       "     'medium': {'url': 'https://i.ytimg.com/vi/qZyvpjpYlAY/mqdefault.jpg',\n",
       "      'width': 320,\n",
       "      'height': 180},\n",
       "     'high': {'url': 'https://i.ytimg.com/vi/qZyvpjpYlAY/hqdefault.jpg',\n",
       "      'width': 480,\n",
       "      'height': 360},\n",
       "     'standard': {'url': 'https://i.ytimg.com/vi/qZyvpjpYlAY/sddefault.jpg',\n",
       "      'width': 640,\n",
       "      'height': 480},\n",
       "     'maxres': None},\n",
       "    'channelTitle': 'muppetsandpvzfan 102801',\n",
       "    'tags': None,\n",
       "    'categoryId': '23',\n",
       "    'liveBroadcastContent': 'none',\n",
       "    'defaultLanguage': None,\n",
       "    'localized': {'title': 'The Muppet Show   Is the Human Body Obsolete',\n",
       "     'description': ''},\n",
       "    'defaultAudioLanguage': None},\n",
       "   'contentDetails': {'duration': 'PT1M58S',\n",
       "    'dimension': '2d',\n",
       "    'definition': 'sd',\n",
       "    'caption': 'false',\n",
       "    'licensedContent': False,\n",
       "    'regionRestriction': None,\n",
       "    'contentRating': {},\n",
       "    'projection': 'rectangular',\n",
       "    'hasCustomThumbnail': None},\n",
       "   'status': {'uploadStatus': 'processed',\n",
       "    'failureReason': None,\n",
       "    'rejectionReason': None,\n",
       "    'privacyStatus': 'public',\n",
       "    'publishAt': None,\n",
       "    'license': 'youtube',\n",
       "    'embeddable': True,\n",
       "    'publicStatsViewable': True,\n",
       "    'madeForKids': True,\n",
       "    'selfDeclaredMadeForKids': None},\n",
       "   'statistics': {'viewCount': 2776,\n",
       "    'likeCount': 18,\n",
       "    'dislikeCount': None,\n",
       "    'commentCount': 0},\n",
       "   'topicDetails': {'topicIds': None,\n",
       "    'relevantTopicIds': None,\n",
       "    'topicCategories': ['https://en.wikipedia.org/wiki/Entertainment',\n",
       "     'https://en.wikipedia.org/wiki/Film',\n",
       "     'https://en.wikipedia.org/wiki/Humour',\n",
       "     'https://en.wikipedia.org/wiki/Performing_arts',\n",
       "     'https://en.wikipedia.org/wiki/Television_program']},\n",
       "   'player': {'embedHtml': '<iframe width=\"480\" height=\"270\" src=\"//www.youtube.com/embed/qZyvpjpYlAY\" frameborder=\"0\" allow=\"accelerometer; autoplay; clipboard-write; encrypted-media; gyroscope; picture-in-picture; web-share\" referrerpolicy=\"strict-origin-when-cross-origin\" allowfullscreen></iframe>',\n",
       "    'embedHeight': None,\n",
       "    'embedWidth': None},\n",
       "   'recordingDetails': {'recordingDate': None},\n",
       "   'liveStreamingDetails': None}]}"
      ]
     },
     "execution_count": 10,
     "metadata": {},
     "output_type": "execute_result"
    }
   ],
   "source": [
    "video_object=cli.videos.list(video_id='qZyvpjpYlAY')\n",
    "video_object.to_dict()"
   ]
  },
  {
   "cell_type": "markdown",
   "metadata": {},
   "source": [
    "If you're logged in with Oauth you can use the playlist_items."
   ]
  },
  {
   "cell_type": "code",
   "execution_count": null,
   "metadata": {},
   "outputs": [],
   "source": [
    "# I want to add this video teaching me the bass line to Thundercat's song 'Them Changes'\n",
    "# to my playlist 'Bass Songs'\n",
    "# https://www.youtube.com/watch?v=BRtHD5IHe6U\n",
    "\n",
    "# Pick your own playlist and add a song to it. \n",
    "\n",
    "# I need to instantiate a video object\n",
    "them_changes_video = cli.videos.list(video_id='BRtHD5IHe6U')\n",
    "\n",
    "bass_songs_playlist = cli.playlists.list(playlist_id='PLZ4LmqAyUebeQFDqg0ELNy4eKSO1xbRgi')\n",
    "\n",
    "them_changes_video_id = them_changes_video.items[0].id\n",
    "\n",
    "bass_songs_playlist_id = bass_songs_playlist.items[0].id\n",
    "#Then add it to the playlist as a playlistItem?\n",
    "\n",
    "bass_songs_items = cli.playlistItems.insert(playlist_id=bass_songs_playlist_id,\n",
    "                                            parts=\"snippet\",\n",
    "                                               body= {\n",
    "                                                   'snippet':{\n",
    "                                                       'playlistId':bass_songs_playlist_id,\n",
    "                                                    'resourceId': {\n",
    "                                                        'kind':'youtube#video',\n",
    "                                                    'videoId': them_changes_video_id\n",
    "                                                    },\n",
    "                                                    'position': 0\n",
    "                                                   }\n",
    "                                               })\n",
    "\n"
   ]
  },
  {
   "cell_type": "code",
   "execution_count": null,
   "metadata": {},
   "outputs": [],
   "source": [
    "# This returns the data for the first element in the playlist items list.\n",
    "# print(playlist_items.items[0].to_dict())\n",
    "\n",
    "################\n",
    "# Search\n",
    "################\n",
    "\n",
    "# search_results = client.search.list(q=\"muppets\", type=\"video\")\n",
    "\n",
    "# print(search_results.items[0].to_dict())\n"
   ]
  }
 ],
 "metadata": {
  "kernelspec": {
   "display_name": "Python 3",
   "language": "python",
   "name": "python3"
  },
  "language_info": {
   "codemirror_mode": {
    "name": "ipython",
    "version": 3
   },
   "file_extension": ".py",
   "mimetype": "text/x-python",
   "name": "python",
   "nbconvert_exporter": "python",
   "pygments_lexer": "ipython3",
   "version": "3.13.0"
  }
 },
 "nbformat": 4,
 "nbformat_minor": 2
}
